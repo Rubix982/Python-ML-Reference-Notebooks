{
  "nbformat": 4,
  "nbformat_minor": 0,
  "metadata": {
    "colab": {
      "name": "Normal  Distributions - Gaussian.ipynb",
      "provenance": [],
      "collapsed_sections": [],
      "authorship_tag": "ABX9TyOE/n+bQbOPJ12evi94QKg/",
      "include_colab_link": true
    },
    "kernelspec": {
      "name": "python3",
      "display_name": "Python 3"
    }
  },
  "cells": [
    {
      "cell_type": "markdown",
      "metadata": {
        "id": "view-in-github",
        "colab_type": "text"
      },
      "source": [
        "<a href=\"https://colab.research.google.com/github/Rubix982/Python-ML-Reference-Notebooks/blob/master/Normal_Distributions_Gaussian.ipynb\" target=\"_parent\"><img src=\"https://colab.research.google.com/assets/colab-badge.svg\" alt=\"Open In Colab\"/></a>"
      ]
    },
    {
      "cell_type": "code",
      "metadata": {
        "id": "fWYk19aPousg",
        "colab_type": "code",
        "colab": {}
      },
      "source": [
        "# import the packages\n",
        "from numpy.random import seed\n",
        "from numpy.random import randn\n",
        "from numpy.random import rand\n",
        "from numpy import append\n",
        "from numpy import zeros\n",
        "import numpy as np\n",
        "\n",
        "from scipy.stats import boxcox\n",
        "\n",
        "import matplotlib.pyplot as plt\n",
        "from math import exp\n",
        "import math\n",
        "\n",
        "%matplotlib inline"
      ],
      "execution_count": 0,
      "outputs": []
    },
    {
      "cell_type": "code",
      "metadata": {
        "id": "BAkOAMRH4L4N",
        "colab_type": "code",
        "colab": {
          "base_uri": "https://localhost:8080/",
          "height": 264
        },
        "outputId": "4f955310-1889-4889-c1b8-6094895b480b"
      },
      "source": [
        "# seed the random number generator\n",
        "seed(1)\n",
        "# generate a univariate data sample\n",
        "data = 5 * randn(100) + 10\n",
        "# add extreme values\n",
        "data = append(data, zeros(10))\n",
        "# histogram\n",
        "pyplot.hist(data)\n",
        "pyplot.show()"
      ],
      "execution_count": 81,
      "outputs": [
        {
          "output_type": "display_data",
          "data": {
            "image/png": "[encoded data removed]",
            "text/plain": [
              "<Figure size 432x288 with 1 Axes>"
            ]
          },
          "metadata": {
            "tags": [],
            "needs_background": "light"
          }
        }
      ]
    },
    {
      "cell_type": "code",
      "metadata": {
        "id": "KJCrWbrr5o0O",
        "colab_type": "code",
        "colab": {
          "base_uri": "https://localhost:8080/",
          "height": 264
        },
        "outputId": "d14f5f0e-27f0-4795-a4f2-d789ffb9b22e"
      },
      "source": [
        "# seed our random function\n",
        "seed(1)\n",
        "\n",
        "# Adding a tail to our gaussian distribution\n",
        "data = 5 * randn(100) + 10\n",
        "tail = (100 * rand(50)) + 10\n",
        "\n",
        "# add the tail\n",
        "data = append(data, tail)\n",
        "\n",
        "# trimming values\n",
        "data = [ x for x in data if x < 25 ]\n",
        "\n",
        "# plot\n",
        "plt.hist(data)\n",
        "plt.show()"
      ],
      "execution_count": 79,
      "outputs": [
        {
          "output_type": "display_data",
          "data": {
            "image/png": "[encoded data removed]",
            "text/plain": [
              "<Figure size 432x288 with 1 Axes>"
            ]
          },
          "metadata": {
            "tags": [],
            "needs_background": "light"
          }
        }
      ]
    },
    {
      "cell_type": "code",
      "metadata": {
        "id": "jPahDs8A62IP",
        "colab_type": "code",
        "colab": {
          "base_uri": "https://localhost:8080/",
          "height": 264
        },
        "outputId": "028cc7fc-24e5-4e9d-9f82-6a84a6141615"
      },
      "source": [
        "# seed our random function\n",
        "seed(1)\n",
        "\n",
        "# Adding a tail to our gaussian distribution\n",
        "data = 5 * randn(100) + 10\n",
        "\n",
        "# use the exp \n",
        "data = [exp(x) for x in data]\n",
        "\n",
        "#### USING BOXCOX\n",
        "\n",
        "# The boxcox() SciPy function implements the Box-Cox method. It takes an argument, called lambda, that controls the type of transform to perform.\n",
        "\n",
        "# Below are some common values for lambda:\n",
        "\n",
        "# lambda = -1. is a reciprocal transform.\n",
        "# lambda = -0.5 is a reciprocal square root transform.\n",
        "# lambda = 0.0 is a log transform.\n",
        "# lambda = 0.5 is a square root transform.\n",
        "# lambda = 1.0 is no transform.\n",
        "\n",
        "# use the boxcox\n",
        "data = boxcox(data, 0)\n",
        "\n",
        "# plot\n",
        "plt.hist(data)\n",
        "plt.show()"
      ],
      "execution_count": 83,
      "outputs": [
        {
          "output_type": "display_data",
          "data": {
            "image/png": "[encoded data removed]",
            "text/plain": [
              "<Figure size 432x288 with 1 Axes>"
            ]
          },
          "metadata": {
            "tags": [],
            "needs_background": "light"
          }
        }
      ]
    },
    {
      "cell_type": "code",
      "metadata": {
        "id": "yxduIlsDtrSu",
        "colab_type": "code",
        "colab": {
          "base_uri": "https://localhost:8080/",
          "height": 816
        },
        "outputId": "7d39d648-2d25-45f5-9dad-a4103e3cae80"
      },
      "source": [
        "# seed the number generator\n",
        "seed(1)\n",
        "\n",
        "# generate a univariate data sample\n",
        "data = 50 * randn(500) + 100\n",
        "\n",
        "# Checking the effectiveness of \n",
        "# different powers and math functions\n",
        "square_root_func = lambda x: pow(x, 1/2)\n",
        "cube_root_func = lambda x: pow(x, 1/3)\n",
        "fourth_root_func = lambda x: pow(x, 1/4)\n",
        "fifth_root_func = lambda x: pow(x, 1/5)\n",
        "sixth_root_func = lambda x: pow(x, 1/6)\n",
        "seventh_root_func = lambda x: pow(x, 1/7)\n",
        "eigth_root_func = lambda x: pow(x, 1/8)\n",
        "ninth_root_func = lambda x: pow(x, 1/9)\n",
        "tenth_root_func = lambda x: pow(x, 1/10)\n",
        "data_2 = square_root_func(data)\n",
        "data_3 = cube_root_func(data)\n",
        "data_4 = fourth_root_func(data)\n",
        "data_5 = fifth_root_func(data)\n",
        "data_6 = sixth_root_func(data)\n",
        "data_7 = seventh_root_func(data)\n",
        "data_8 = eigth_root_func(data)\n",
        "data_9 = ninth_root_func(data)\n",
        "data_10 = tenth_root_func(data)\n",
        "data_11 = [exp(x) for x in data]\n",
        "data_12 = [log(x) if x > 0 else x == 0 for x in data]\n",
        "\n",
        "# histogram\n",
        "fig, axs = plt.subplots(4, 3)\n",
        "fig.suptitle(\"Gaussian Distributions\")\n",
        "axs[0, 0].hist(data)\n",
        "axs[0, 1].hist(data_2)\n",
        "axs[0, 2].hist(data_3)\n",
        "axs[1, 0].hist(data_4)\n",
        "axs[1, 1].hist(data_5)\n",
        "axs[1, 2].hist(data_6)\n",
        "axs[2, 0].hist(data_7)\n",
        "axs[2, 1].hist(data_8)\n",
        "axs[2, 2].hist(data_9)\n",
        "axs[3, 0].hist(data_10)\n",
        "axs[3, 1].hist(data_11)\n",
        "axs[3, 2].hist(data_12)"
      ],
      "execution_count": 64,
      "outputs": [
        {
          "output_type": "stream",
          "text": [
            "/usr/local/lib/python3.6/dist-packages/ipykernel_launcher.py:8: RuntimeWarning: invalid value encountered in sqrt\n",
            "  \n",
            "/usr/local/lib/python3.6/dist-packages/ipykernel_launcher.py:9: RuntimeWarning: invalid value encountered in power\n",
            "  if __name__ == '__main__':\n",
            "/usr/local/lib/python3.6/dist-packages/ipykernel_launcher.py:10: RuntimeWarning: invalid value encountered in power\n",
            "  # Remove the CWD from sys.path while we load stuff.\n",
            "/usr/local/lib/python3.6/dist-packages/ipykernel_launcher.py:11: RuntimeWarning: invalid value encountered in power\n",
            "  # This is added back by InteractiveShellApp.init_path()\n",
            "/usr/local/lib/python3.6/dist-packages/ipykernel_launcher.py:12: RuntimeWarning: invalid value encountered in power\n",
            "  if sys.path[0] == '':\n",
            "/usr/local/lib/python3.6/dist-packages/ipykernel_launcher.py:13: RuntimeWarning: invalid value encountered in power\n",
            "  del sys.path[0]\n",
            "/usr/local/lib/python3.6/dist-packages/ipykernel_launcher.py:14: RuntimeWarning: invalid value encountered in power\n",
            "  \n",
            "/usr/local/lib/python3.6/dist-packages/ipykernel_launcher.py:15: RuntimeWarning: invalid value encountered in power\n",
            "  from ipykernel import kernelapp as app\n",
            "/usr/local/lib/python3.6/dist-packages/ipykernel_launcher.py:16: RuntimeWarning: invalid value encountered in power\n",
            "  app.launch_new_instance()\n",
            "/usr/local/lib/python3.6/dist-packages/numpy/lib/histograms.py:839: RuntimeWarning: invalid value encountered in greater_equal\n",
            "  keep = (tmp_a >= first_edge)\n",
            "/usr/local/lib/python3.6/dist-packages/numpy/lib/histograms.py:840: RuntimeWarning: invalid value encountered in less_equal\n",
            "  keep &= (tmp_a <= last_edge)\n"
          ],
          "name": "stderr"
        },
        {
          "output_type": "execute_result",
          "data": {
            "text/plain": [
              "(array([ 13.,   3.,   1.,   2.,   4.,   8.,  34., 107., 234.,  94.]),\n",
              " array([0.        , 0.55276134, 1.10552268, 1.65828401, 2.21104535,\n",
              "        2.76380669, 3.31656803, 3.86932936, 4.4220907 , 4.97485204,\n",
              "        5.52761338]),\n",
              " <a list of 10 Patch objects>)"
            ]
          },
          "metadata": {
            "tags": []
          },
          "execution_count": 64
        },
        {
          "output_type": "display_data",
          "data": {
            "image/png": "[encoded data removed]",
            "text/plain": [
              "<Figure size 432x288 with 12 Axes>"
            ]
          },
          "metadata": {
            "tags": [],
            "needs_background": "light"
          }
        }
      ]
    },
    {
      "cell_type": "code",
      "metadata": {
        "id": "RJVQ6VQN3pVx",
        "colab_type": "code",
        "colab": {}
      },
      "source": [
        ""
      ],
      "execution_count": 0,
      "outputs": []
    }
  ]
}